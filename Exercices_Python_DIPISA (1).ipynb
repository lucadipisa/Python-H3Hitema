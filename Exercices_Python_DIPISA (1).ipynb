{
  "nbformat": 4,
  "nbformat_minor": 0,
  "metadata": {
    "colab": {
      "provenance": []
    },
    "kernelspec": {
      "name": "python3",
      "display_name": "Python 3"
    },
    "language_info": {
      "name": "python"
    }
  },
  "cells": [
    {
      "cell_type": "code",
      "execution_count": 16,
      "metadata": {
        "colab": {
          "base_uri": "https://localhost:8080/"
        },
        "id": "Q9j9rZEh7ZrN",
        "outputId": "c344ecd2-9101-4227-9939-0ee0720b53c3"
      },
      "outputs": [
        {
          "output_type": "stream",
          "name": "stdout",
          "text": [
            "Entrez le premier nombre :2\n",
            "Entrez le second nombre :5\n",
            "Le produit de 2 et 5 est positif\n"
          ]
        }
      ],
      "source": [
        "41\n",
        "#Exo 2.1\n",
        "nb1 = int(input('Entrez le premier nombre :'))\n",
        "nb2 = int(input('Entrez le second nombre :'))\n",
        "\n",
        "\n",
        "if nb1 > 0 and nb2 > 0 or nb1 < 0 and nb2 < 0 :\n",
        "   print('Le produit de {0} et {1} est positif'.format(nb1,nb2))\n",
        "else:\n",
        "    print('Le produit de {0} et {1} est négatif-'.format(nb1,nb2))"
      ]
    },
    {
      "cell_type": "code",
      "source": [
        "#Exo 2.2\n",
        "nb1 = int(input('Entrez un nombre : '))\n",
        "s = int(0)\n",
        "\n",
        "for i in range(nb1+1):\n",
        "    s = s + i\n",
        "    i = i + 1\n",
        "    \n",
        "print(s) "
      ],
      "metadata": {
        "colab": {
          "base_uri": "https://localhost:8080/"
        },
        "id": "EWv7aJs-T6nU",
        "outputId": "316a61e4-41d2-4f5d-843e-692f6c64e733"
      },
      "execution_count": 18,
      "outputs": [
        {
          "output_type": "stream",
          "name": "stdout",
          "text": [
            "Entrez un nombre : 5\n",
            "15\n"
          ]
        }
      ]
    },
    {
      "cell_type": "code",
      "source": [
        "#Exo 2.3\n",
        "tableau = [1, 2, 3, 4, 5, 6, 7, 8, 9, 10]\n",
        "\n",
        "tableauSom = sum(tableau)\n",
        "\n",
        "print(f\"Somme de la liste -> {tableauSom}\")"
      ],
      "metadata": {
        "colab": {
          "base_uri": "https://localhost:8080/"
        },
        "id": "VbZv7W_oSyq5",
        "outputId": "51bc8018-e228-448f-ccd6-c114cf027077"
      },
      "execution_count": 20,
      "outputs": [
        {
          "output_type": "stream",
          "name": "stdout",
          "text": [
            "Somme de la liste -> 55\n"
          ]
        }
      ]
    },
    {
      "cell_type": "code",
      "source": [
        "#Exo 2.4\n",
        "list1 = [2,4,5,3,5,4]\n",
        "list2 = [4,1,2,9,7,5]\n",
        "product = [x*y for x,y in zip(list1,list2)]\n",
        "listSum = sum(product)\n",
        "\n",
        "print(listSum)"
      ],
      "metadata": {
        "colab": {
          "base_uri": "https://localhost:8080/"
        },
        "id": "4IkRFB8kS6k-",
        "outputId": "85c318f5-1261-47eb-d536-c06905069057"
      },
      "execution_count": 15,
      "outputs": [
        {
          "output_type": "stream",
          "name": "stdout",
          "text": [
            "104\n"
          ]
        }
      ]
    },
    {
      "cell_type": "code",
      "source": [
        "#Exo 2.5 - SUR VSCODE JE N'AI AUCUNE ERREUR ET CELA FONCTIONNE BIEN\n",
        "list = []\n",
        "list1 = [int(item) for item in input(\"Entrez des nombres : \").split()]\n",
        "max_value = max(list1)\n",
        "print('Valeur max:', max_value, \"Position :\", list1.index(max_value))"
      ],
      "metadata": {
        "colab": {
          "base_uri": "https://localhost:8080/",
          "height": 235
        },
        "id": "_vAldzTMUldO",
        "outputId": "29e883ce-9bd4-47ee-9674-c50cbb080600"
      },
      "execution_count": 31,
      "outputs": [
        {
          "name": "stdout",
          "output_type": "stream",
          "text": [
            "Entrez des nombres : 5 1 50 21\n"
          ]
        },
        {
          "output_type": "error",
          "ename": "TypeError",
          "evalue": "ignored",
          "traceback": [
            "\u001b[0;31m---------------------------------------------------------------------------\u001b[0m",
            "\u001b[0;31mTypeError\u001b[0m                                 Traceback (most recent call last)",
            "\u001b[0;32m<ipython-input-31-324dcb45e707>\u001b[0m in \u001b[0;36m<module>\u001b[0;34m\u001b[0m\n\u001b[1;32m      2\u001b[0m \u001b[0mlist\u001b[0m \u001b[0;34m=\u001b[0m \u001b[0;34m[\u001b[0m\u001b[0;34m]\u001b[0m\u001b[0;34m\u001b[0m\u001b[0;34m\u001b[0m\u001b[0m\n\u001b[1;32m      3\u001b[0m \u001b[0mlist1\u001b[0m \u001b[0;34m=\u001b[0m \u001b[0;34m[\u001b[0m\u001b[0mint\u001b[0m\u001b[0;34m(\u001b[0m\u001b[0mitem\u001b[0m\u001b[0;34m)\u001b[0m \u001b[0;32mfor\u001b[0m \u001b[0mitem\u001b[0m \u001b[0;32min\u001b[0m \u001b[0minput\u001b[0m\u001b[0;34m(\u001b[0m\u001b[0;34m\"Entrez des nombres : \"\u001b[0m\u001b[0;34m)\u001b[0m\u001b[0;34m.\u001b[0m\u001b[0msplit\u001b[0m\u001b[0;34m(\u001b[0m\u001b[0;34m)\u001b[0m\u001b[0;34m]\u001b[0m\u001b[0;34m\u001b[0m\u001b[0;34m\u001b[0m\u001b[0m\n\u001b[0;32m----> 4\u001b[0;31m \u001b[0mmax_value\u001b[0m \u001b[0;34m=\u001b[0m \u001b[0mmax\u001b[0m\u001b[0;34m(\u001b[0m\u001b[0mlist1\u001b[0m\u001b[0;34m)\u001b[0m\u001b[0;34m\u001b[0m\u001b[0;34m\u001b[0m\u001b[0m\n\u001b[0m\u001b[1;32m      5\u001b[0m \u001b[0mprint\u001b[0m\u001b[0;34m(\u001b[0m\u001b[0;34m'Valeur max:'\u001b[0m\u001b[0;34m,\u001b[0m \u001b[0mmax_value\u001b[0m\u001b[0;34m,\u001b[0m \u001b[0;34m\"Position :\"\u001b[0m\u001b[0;34m,\u001b[0m \u001b[0mlist1\u001b[0m\u001b[0;34m.\u001b[0m\u001b[0mindex\u001b[0m\u001b[0;34m(\u001b[0m\u001b[0mmax_value\u001b[0m\u001b[0;34m)\u001b[0m\u001b[0;34m)\u001b[0m\u001b[0;34m\u001b[0m\u001b[0;34m\u001b[0m\u001b[0m\n",
            "\u001b[0;31mTypeError\u001b[0m: 'int' object is not callable"
          ]
        }
      ]
    },
    {
      "cell_type": "code",
      "source": [
        "#Exo 2.6\n",
        "list = []\n",
        "list1 = [int(item) for item in input(\"Entrez des nombres : \").split()]\n",
        "moy = sum(list1)\n",
        "result = moy/len(list1)\n",
        "i,max = 0,0\n",
        "\n",
        "for i in range(len(list1)):\n",
        "    if list1[i] > result :\n",
        "     max += 1\n",
        "\n",
        "print('La moyenne est : ',result)\n",
        "print('Le nombre de chiffres plus grands que la moyenne : ',max)\n"
      ],
      "metadata": {
        "colab": {
          "base_uri": "https://localhost:8080/"
        },
        "id": "CLtTyt0wUvhF",
        "outputId": "6679286b-d497-47dc-9817-f9f54b247292"
      },
      "execution_count": 23,
      "outputs": [
        {
          "output_type": "stream",
          "name": "stdout",
          "text": [
            "Entrez des nombres : 12 50 32\n",
            "La moyenne est :  31.333333333333332\n",
            "Le nombre de chiffres plus grands que la moyenne :  2\n"
          ]
        }
      ]
    },
    {
      "cell_type": "code",
      "source": [
        "#Exo 2.8\n",
        "list = []\n",
        "list1 = [int(item) for item in input(\"Entrez des nombres : \").split()]\n",
        "print(sorted(list1))"
      ],
      "metadata": {
        "colab": {
          "base_uri": "https://localhost:8080/"
        },
        "id": "oYGm3WZmTAZZ",
        "outputId": "82987822-dbec-4a7c-be92-20e4ae1060a0"
      },
      "execution_count": 9,
      "outputs": [
        {
          "output_type": "stream",
          "name": "stdout",
          "text": [
            "Entrez des nombres : 54 21 2\n",
            "[2, 21, 54]\n"
          ]
        }
      ]
    },
    {
      "cell_type": "code",
      "source": [
        "#Exo 2.9\n",
        "nb1 = int(input('Entrez le premier nombre :'))\n",
        "\n",
        "if nb1 == 0:\n",
        "    print(1)\n",
        "else:\n",
        " F = 1\n",
        "for k in range(2,nb1+1):\n",
        " F = F * k\n",
        "\n",
        "print('La factorielle est :' ,F)"
      ],
      "metadata": {
        "colab": {
          "base_uri": "https://localhost:8080/"
        },
        "id": "QFZVrr6STgW_",
        "outputId": "51d8e494-ec42-4d52-fc65-29bb4d870c7e"
      },
      "execution_count": 13,
      "outputs": [
        {
          "output_type": "stream",
          "name": "stdout",
          "text": [
            "Entrez le premier nombre :5\n",
            "La factorielle est : 120\n"
          ]
        }
      ]
    }
  ]
}