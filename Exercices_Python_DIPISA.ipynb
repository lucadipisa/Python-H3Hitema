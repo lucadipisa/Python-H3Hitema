{
  "nbformat": 4,
  "nbformat_minor": 0,
  "metadata": {
    "colab": {
      "provenance": []
    },
    "kernelspec": {
      "name": "python3",
      "display_name": "Python 3"
    },
    "language_info": {
      "name": "python"
    }
  },
  "cells": [
    {
      "cell_type": "code",
      "execution_count": 16,
      "metadata": {
        "colab": {
          "base_uri": "https://localhost:8080/"
        },
        "id": "Q9j9rZEh7ZrN",
        "outputId": "c344ecd2-9101-4227-9939-0ee0720b53c3"
      },
      "outputs": [
        {
          "output_type": "stream",
          "name": "stdout",
          "text": [
            "Entrez le premier nombre :2\n",
            "Entrez le second nombre :5\n",
            "Le produit de 2 et 5 est positif\n"
          ]
        }
      ],
      "source": [
        "41\n",
        "#Exo 2.1\n",
        "nb1 = int(input('Entrez le premier nombre :'))\n",
        "nb2 = int(input('Entrez le second nombre :'))\n",
        "\n",
        "\n",
        "if nb1 > 0 and nb2 > 0 or nb1 < 0 and nb2 < 0 :\n",
        "   print('Le produit de {0} et {1} est positif'.format(nb1,nb2))\n",
        "else:\n",
        "    print('Le produit de {0} et {1} est négatif-'.format(nb1,nb2))"
      ]
    },
    {
      "cell_type": "code",
      "source": [
        "#Exo 2.2\n",
        "nb1 = int(input('Entrez un nombre : '))\n",
        "s = int(0)\n",
        "\n",
        "for i in range(nb1+1):\n",
        "    s = s + i\n",
        "    i = i + 1\n",
        "    \n",
        "print(s) "
      ],
      "metadata": {
        "colab": {
          "base_uri": "https://localhost:8080/"
        },
        "id": "EWv7aJs-T6nU",
        "outputId": "316a61e4-41d2-4f5d-843e-692f6c64e733"
      },
      "execution_count": 18,
      "outputs": [
        {
          "output_type": "stream",
          "name": "stdout",
          "text": [
            "Entrez un nombre : 5\n",
            "15\n"
          ]
        }
      ]
    },
    {
      "cell_type": "code",
      "source": [
        "#Exo 2.3\n",
        "tableau = [1, 2, 3, 4, 5, 6, 7, 8, 9, 10]\n",
        "\n",
        "tableauSom = sum(tableau)\n",
        "\n",
        "print(f\"Somme de la liste -> {tableauSom}\")"
      ],
      "metadata": {
        "colab": {
          "base_uri": "https://localhost:8080/"
        },
        "id": "VbZv7W_oSyq5",
        "outputId": "51bc8018-e228-448f-ccd6-c114cf027077"
      },
      "execution_count": 20,
      "outputs": [
        {
          "output_type": "stream",
          "name": "stdout",
          "text": [
            "Somme de la liste -> 55\n"
          ]
        }
      ]
    },
    {
      "cell_type": "code",
      "source": [
        "#Exo 2.4\n",
        "list1 = [2,4,5,3,5,4]\n",
        "list2 = [4,1,2,9,7,5]\n",
        "product = [x*y for x,y in zip(list1,list2)]\n",
        "listSum = sum(product)\n",
        "\n",
        "print(listSum)"
      ],
      "metadata": {
        "colab": {
          "base_uri": "https://localhost:8080/"
        },
        "id": "4IkRFB8kS6k-",
        "outputId": "85c318f5-1261-47eb-d536-c06905069057"
      },
      "execution_count": 15,
      "outputs": [
        {
          "output_type": "stream",
          "name": "stdout",
          "text": [
            "104\n"
          ]
        }
      ]
    },
    {
      "cell_type": "code",
      "source": [
        "#Exo 2.8\n",
        "list = []\n",
        "list1 = [int(item) for item in input(\"Entrez des nombres : \").split()]\n",
        "print(sorted(list1))"
      ],
      "metadata": {
        "colab": {
          "base_uri": "https://localhost:8080/"
        },
        "id": "oYGm3WZmTAZZ",
        "outputId": "82987822-dbec-4a7c-be92-20e4ae1060a0"
      },
      "execution_count": 9,
      "outputs": [
        {
          "output_type": "stream",
          "name": "stdout",
          "text": [
            "Entrez des nombres : 54 21 2\n",
            "[2, 21, 54]\n"
          ]
        }
      ]
    },
    {
      "cell_type": "code",
      "source": [
        "#Exo 2.9\n",
        "nb1 = int(input('Entrez le premier nombre :'))\n",
        "\n",
        "if nb1 == 0:\n",
        "    print(1)\n",
        "else:\n",
        " F = 1\n",
        "for k in range(2,nb1+1):\n",
        " F = F * k\n",
        "\n",
        "print('La factorielle est :' ,F)"
      ],
      "metadata": {
        "colab": {
          "base_uri": "https://localhost:8080/"
        },
        "id": "QFZVrr6STgW_",
        "outputId": "51d8e494-ec42-4d52-fc65-29bb4d870c7e"
      },
      "execution_count": 13,
      "outputs": [
        {
          "output_type": "stream",
          "name": "stdout",
          "text": [
            "Entrez le premier nombre :5\n",
            "La factorielle est : 120\n"
          ]
        }
      ]
    }
  ]
}